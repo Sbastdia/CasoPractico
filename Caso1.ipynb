{
 "cells": [
  {
   "cell_type": "markdown",
   "id": "be93c7bf-69cc-4726-b5a2-70e79e911ab8",
   "metadata": {},
   "source": [
    "**CASO PRÁCTICO 1. APRENDIZAJE POR REFUERZO EN PYTHON**"
   ]
  },
  {
   "cell_type": "code",
   "execution_count": 1,
   "id": "b9a33f8f-67a5-4eff-9221-d184832167cd",
   "metadata": {},
   "outputs": [],
   "source": [
    "import numpy as np\n",
    "import matplotlib.pyplot as plt\n",
    "from random import randint\n",
    "from time import sleep\n",
    "from IPython.display import clear_output\n",
    "from math import ceil,floor\n",
    "%matplotlib inline"
   ]
  },
  {
   "cell_type": "code",
   "execution_count": 2,
   "id": "ae241dbf-16ec-4525-b01d-1b2d6b3aa136",
   "metadata": {},
   "outputs": [],
   "source": [
    "def __init__(self, game, policy=None, discount_factor = 0.1, learning_rate = 0.1,ratio_explotacion = 0.9):\n",
    "# Creamos la tabla de politicas\n",
    "    if policy is not None:\n",
    "        self._q_table = policy\n",
    "    else:\n",
    "        position = list(game.positions_space.shape)\n",
    "        position.append(len(game.action_space))\n",
    "        self._q_table = np.zeros(position)\n",
    "        self.discount_factor = discount_factor\n",
    "        self.learning_rate = learning_rate\n",
    "        self.ratio_explotacion = ratio_explotacion"
   ]
  },
  {
   "cell_type": "code",
   "execution_count": 3,
   "id": "ed1ac8d8-37a2-4fd3-8abf-90f80e3e74a9",
   "metadata": {},
   "outputs": [],
   "source": [
    "def get_next_step(self, state, game):\n",
    "    # Damos un paso aleatorio...\n",
    "    next_step = np.random.choice(list(game.action_space))\n",
    "    # o tomaremos el mejor paso...\n",
    "    if np.random.uniform() <= self.ratio_explotacion:\n",
    "        # tomar el maximo\n",
    "        idx_action = np.random.choice(np.flatnonzero(\n",
    "        self._q_table[state[0],state[1],state[2]] ==\n",
    "        self._q_table[state[0],state[1],state[2]].max()\n",
    "        ))\n",
    "        next_step = list(game.action_space)[idx_action]\n",
    "    return next_step"
   ]
  },
  {
   "cell_type": "code",
   "execution_count": 4,
   "id": "b9331fc5-d0f7-4772-be74-adbbb0b3dc6a",
   "metadata": {},
   "outputs": [],
   "source": [
    "# actualizamos las politicas con las recompensas obtenidas\n",
    "def update(self, game, old_state, action_taken, reward_action_taken, new_state, reached_end):\n",
    "    idx_action_taken =list(game.action_space).index(action_taken)\n",
    "    actual_q_value_options = self._q_table[old_state[0], old_state[1], old_state[2]]\n",
    "    actual_q_value = actual_q_value_options[idx_action_taken]\n",
    "    future_q_value_options = self._q_table[new_state[0], new_state[1], new_state[2]]\n",
    "    future_max_q_value = reward_action_taken + self.discount_factor*future_q_value_options.max()\n",
    "    if reached_end:\n",
    "        future_max_q_value = reward_action_taken #maximum reward\n",
    "        self._q_table[old_state[0], old_state[1], old_state[2], idx_action_taken] = actual_q_value + self.learning_rate*(future_max_q_value -actual_q_value)"
   ]
  },
  {
   "cell_type": "code",
   "execution_count": 5,
   "id": "b7b86ce7-8b36-4eb5-8a87-8639280ff46d",
   "metadata": {},
   "outputs": [],
   "source": [
    "def print_policy(self):\n",
    "    for row in np.round(self._q_table,1):\n",
    "        for column in row:\n",
    "            print('[', end='')\n",
    "            for value in column:\n",
    "                print(str(value).zfill(5), end=' ')\n",
    "                print('] ', end='')\n",
    "                print('')"
   ]
  },
  {
   "cell_type": "code",
   "execution_count": 6,
   "id": "c47ed681-c527-425c-8ab3-47f9cc8a0c0d",
   "metadata": {},
   "outputs": [],
   "source": [
    "def get_policy(self):\n",
    "    return self._q_table"
   ]
  },
  {
   "cell_type": "code",
   "execution_count": 7,
   "id": "8112cea2-125b-4a06-96a3-7b579997d43f",
   "metadata": {},
   "outputs": [],
   "source": [
    "def __init__(self, max_life=3, height_px = 40, width_px = 50, movimiento_px = 3):\n",
    "    self.action_space = ['Arriba','Abajo']\n",
    "    self._step_penalization = 0\n",
    "    self.state = [0,0,0]\n",
    "    self.total_reward = 0\n",
    "    self.dx = movimiento_px\n",
    "    self.dy = movimiento_px\n",
    "    filas = ceil(height_px/movimiento_px)\n",
    "    columnas = ceil(width_px/movimiento_px)\n",
    "    self.positions_space = np.array([[[0 for z in range(columnas)]for y in range(filas)]for x in range(filas)])\n",
    "    self.lives = max_life\n",
    "    self.max_life=max_life\n",
    "    self.x = randint(int(width_px/2), width_px)\n",
    "    self.y = randint(0, height_px-10)\n",
    "    self.player_alto = int(height_px/4)\n",
    "    self.player1 = self.player_alto # posic. inicial del player\n",
    "    self.score = 0\n",
    "    self.width_px = width_px\n",
    "    self.height_px = height_px\n",
    "    self.radio = 2.5"
   ]
  },
  {
   "cell_type": "code",
   "execution_count": 8,
   "id": "64b10135-ad9d-45b5-a08f-d0f4bdd46503",
   "metadata": {},
   "outputs": [],
   "source": [
    "def reset(self):\n",
    "    self.total_reward = 0\n",
    "    self.state = [0,0,0]\n",
    "    self.lives = self.max_life\n",
    "    self.score = 0\n",
    "    self.x = randint(int(self.width_px/2), self.width_px)\n",
    "    self.y = randint(0, self.height_px-10)\n",
    "    return self.state"
   ]
  },
  {
   "cell_type": "code",
   "execution_count": 9,
   "id": "6a9d3004-33d8-4a00-89b0-bcf1ef1dcdd8",
   "metadata": {},
   "outputs": [],
   "source": [
    "def step(self, action, animate=False):\n",
    "    self._apply_action(action, animate)\n",
    "    done = self.lives <=0 # final\n",
    "    reward = self.score\n",
    "    reward += self._step_penalization\n",
    "    self.total_reward += reward\n",
    "    return self.state, reward , done"
   ]
  },
  {
   "cell_type": "code",
   "execution_count": 10,
   "id": "57e005bc-6598-4b55-938c-7c723f609b6c",
   "metadata": {},
   "outputs": [],
   "source": [
    "def _apply_action(self, action, animate=False):\n",
    "    if action == \"Arriba\":\n",
    "        self.player1 += abs(self.dy)\n",
    "    elif action == \"Abajo\":\n",
    "        self.player1 -= abs(self.dy)\n",
    "        self.avanza_player()\n",
    "        self.avanza_frame()\n",
    "    if animate:\n",
    "        clear_output(wait=True);\n",
    "        fig = self.dibujar_frame()\n",
    "        plt.show()\n",
    "        self.state = (floor(self.player1/abs(self.dy))-2, floor(self.y/abs(self.dy))-2,\n",
    "        floor(self.x/abs(self.dx))-2)"
   ]
  },
  {
   "cell_type": "code",
   "execution_count": 11,
   "id": "11fac10f-b420-4a45-a445-4a89da068bf7",
   "metadata": {},
   "outputs": [],
   "source": [
    "def detectaColision(self, ball_y, player_y):\n",
    "    if (player_y+self.player_alto >= (ball_y-self.radio)) and (player_y <=(ball_y+self.radio)):\n",
    "        return True\n",
    "    else:\n",
    "        return False"
   ]
  },
  {
   "cell_type": "code",
   "execution_count": 12,
   "id": "3a577bf6-3c8f-4430-a219-636328b5b6c9",
   "metadata": {},
   "outputs": [],
   "source": [
    "def avanza_player(self):\n",
    "    if self.player1 + self.player_alto >=self.height_px:\n",
    "        self.player1 = self.height_px - self.player_alto\n",
    "    elif self.player1 <= -abs(self.dy):\n",
    "        self.player1 = -abs(self.dy)"
   ]
  },
  {
   "cell_type": "code",
   "execution_count": 13,
   "id": "0688b8b6-f784-4333-b4d6-297aa43899f8",
   "metadata": {},
   "outputs": [],
   "source": [
    "def avanza_frame(self):\n",
    "    self.x += self.dx\n",
    "    self.y += self.dy\n",
    "    if self.x <= 3 or self.x > self.width_px:\n",
    "        self.dx = -self.dx\n",
    "    if self.x <= 3:\n",
    "        ret = self.detectaColision(self.y, self.player1)\n",
    "    if ret:\n",
    "        self.score = 10\n",
    "    else:\n",
    "        self.score = -10\n",
    "        self.lives -= 1\n",
    "    if self.lives>0:\n",
    "        self.x = randint(int(self.width_px/2), self.width_px)\n",
    "        self.y = randint(0, self.height_px-10)\n",
    "        self.dx = abs(self.dx)\n",
    "        self.dy = abs(self.dy)\n",
    "    else:\n",
    "        self.score = 0\n",
    "    if self.y < 0 or self.y > self.height_px:\n",
    "        self.dy = -self.dy"
   ]
  },
  {
   "cell_type": "code",
   "execution_count": 14,
   "id": "2e202146-fb20-4ca5-bf34-2ae7f98dd077",
   "metadata": {},
   "outputs": [],
   "source": [
    "def dibujar_frame(self):\n",
    "    fig = plt.figure(figsize=(5, 4))\n",
    "    a1 = plt.gca()\n",
    "    circle = plt.Circle((self.x, self.y), self.radio, fc='slategray', ec=\"black\")\n",
    "    a1.set_ylim(-5, self.height_px+5)\n",
    "    a1.set_xlim(-5, self.width_px+5)\n",
    "    rectangle = plt.Rectangle((-5, self.player1), 5, self.player_alto, fc='gold', ec=\"none\")\n",
    "    a1.add_patch(circle);\n",
    "    a1.add_patch(rectangle)\n",
    "    #a1.set_yticklabels([]);a1.set_xticklabels([]);\n",
    "    plt.text(4, self.height_px, \"SCORE:\"+str(self.total_reward)+\" LIFE:\"+str(self.lives),fontsize=12)\n",
    "    if self.lives <=0:\n",
    "        plt.text(10, self.height_px-14, \"GAME OVER\", fontsize=16)\n",
    "    elif self.total_reward >= 1000:\n",
    "        plt.text(10, self.height_px-14, \"YOU WIN!\", fontsize=16)\n",
    "    return fig"
   ]
  },
  {
   "cell_type": "code",
   "execution_count": 15,
   "id": "131f068e-b66e-47c3-a369-417bb18ce232",
   "metadata": {},
   "outputs": [],
   "source": [
    "def play(rounds=5000, max_life=3, discount_factor=0.1, learning_rate=0.1, ratio_explotacion=0.9, learner=None, game=None, animate=False):\n",
    "    if game is None:\n",
    "        game = PongEnvironment(max_life=max_life, movimiento_px=3)\n",
    "        \n",
    "    if learner is None:\n",
    "        print(\"Begin new Train!\")\n",
    "        learner = PongAgent(game, discount_factor=discount_factor, learning_rate=learning_rate, ratio_explotacion=ratio_explotacion)\n",
    "        \n",
    "    max_points = -9999\n",
    "    first_max_reached = 0\n",
    "    total_rw = 0\n",
    "    steps = []\n",
    "    \n",
    "    for played_games in range(0, rounds):\n",
    "        state = game.reset()\n",
    "        reward, done = None, None\n",
    "        \n",
    "        itera = 0\n",
    "        while (done != True) and (itera < 3000) and (game.total_reward <= 1000):\n",
    "            old_state = np.array(state)\n",
    "            next_action = learner.get_next_step(state, game)\n",
    "            state, reward, done = game.step(next_action, animate=animate)\n",
    "            if rounds > 1:\n",
    "                learner.update(game, old_state, next_action, reward, state, done)\n",
    "            itera += 1\n",
    "            \n",
    "        steps.append(itera)\n",
    "        \n",
    "        total_rw += game.total_reward\n",
    "        if game.total_reward > max_points:\n",
    "            max_points = game.total_reward\n",
    "            first_max_reached = played_games\n",
    "            \n",
    "        if played_games % 500 == 0 and played_games > 1 and not animate:\n",
    "            print(\"--Partidas[\", played_games,\"]Avg.Puntos[\", int(total_rw/played_games),\"] AVG Steps[\",int(np.array(steps).mean()),\"]MaxScore[\", max_points,\"]\")\n",
    "    \n",
    "    if played_games > 1:\n",
    "        print('Partidas[', played_games,']Avg.Puntos[', int(total_rw/played_games),']MaxScore[', max_points,'] en partida[', first_max_reached,']')\n",
    "    \n",
    "    #learner.print_policy()\n",
    "    \n",
    "    return learner, game"
   ]
  }
 ],
 "metadata": {
  "kernelspec": {
   "display_name": "Python 3 (ipykernel)",
   "language": "python",
   "name": "python3"
  },
  "language_info": {
   "codemirror_mode": {
    "name": "ipython",
    "version": 3
   },
   "file_extension": ".py",
   "mimetype": "text/x-python",
   "name": "python",
   "nbconvert_exporter": "python",
   "pygments_lexer": "ipython3",
   "version": "3.9.13"
  }
 },
 "nbformat": 4,
 "nbformat_minor": 5
}
